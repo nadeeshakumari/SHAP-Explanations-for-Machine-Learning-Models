{
  "nbformat": 4,
  "nbformat_minor": 0,
  "metadata": {
    "colab": {
      "provenance": []
    },
    "kernelspec": {
      "name": "python3",
      "display_name": "Python 3"
    },
    "language_info": {
      "name": "python"
    }
  },
  "cells": [
    {
      "cell_type": "code",
      "source": [
        "import shap\n",
        "import pandas as pd\n",
        "\n",
        "# Prepare background data for KernelExplainer (sample 100 from training set)\n",
        "background = pd.DataFrame(X_train_res, columns=X.columns).sample(100, random_state=42)\n",
        "\n",
        "# Convert test data to DataFrame for SHAP plotting\n",
        "X_test_df = pd.DataFrame(X_test_scaled, columns=X.columns)\n",
        "\n"
      ],
      "metadata": {
        "id": "f8Zny9MxjYZi"
      },
      "execution_count": null,
      "outputs": []
    },
    {
      "cell_type": "code",
      "source": [
        "# Define prediction function for SHAP (SVM supports decision_function)\n",
        "f_svm = model_svm.decision_function\n",
        "\n",
        "# Create KernelExplainer for SVM\n",
        "explainer_svm = shap.KernelExplainer(f_svm, background)\n",
        "\n",
        "# Compute SHAP values for test set (may take some time)\n",
        "shap_values_svm = explainer_svm.shap_values(X_test_df, nsamples=100)\n",
        "\n",
        "# === SHAP Plots ===\n",
        "\n",
        "# 1. Summary Bar Plot\n",
        "shap.summary_plot(shap_values_svm, X_test_df, plot_type=\"bar\")\n",
        "\n",
        "# 2. Summary Dot Plot (Beeswarm)\n",
        "shap.summary_plot(shap_values_svm, X_test_df)\n",
        "\n",
        "# 3. Waterfall Plot (first test sample)\n",
        "shap.plots._waterfall.waterfall_legacy(\n",
        "    explainer_svm.expected_value,\n",
        "    shap_values_svm[0],\n",
        "    X_test_df.iloc[0]\n",
        ")\n",
        "\n",
        "# 4. Decision Plot (for first 10 instances)\n",
        "shap.decision_plot(\n",
        "    explainer_svm.expected_value,\n",
        "    shap_values_svm[:10],\n",
        "    X_test_df.iloc[:10]\n",
        ")\n",
        "\n",
        "# 5. Heatmap\n",
        "shap.plots.heatmap(shap_values_svm, X_test_df)\n"
      ],
      "metadata": {
        "id": "fZU0iF-6jrTr"
      },
      "execution_count": null,
      "outputs": []
    },
    {
      "cell_type": "code",
      "source": [
        "X_test_df = pd.DataFrame(X_test_scaled, columns=X.columns)\n",
        "\n",
        "explainer_rf = shap.TreeExplainer(model_rf)\n",
        "shap_values_rf = explainer_rf.shap_values(X_test_df)\n",
        "\n",
        "# For binary classification shap_values is list, take positive class\n",
        "if isinstance(shap_values_rf, list):\n",
        "    shap_values_rf = shap_values_rf[1]\n",
        "\n",
        "# 1. Summary Bar Plot\n",
        "shap.summary_plot(shap_values_rf, X_test_df, plot_type=\"bar\")\n",
        "\n",
        "# 2. Summary Dot Plot (Beeswarm)\n",
        "shap.summary_plot(shap_values_rf, X_test_df)\n",
        "\n",
        "# 3. Waterfall Plot (first test sample)\n",
        "shap.plots._waterfall.waterfall_legacy(\n",
        "    explainer_rf.expected_value[1] if isinstance(explainer_rf.expected_value, list) else explainer_rf.expected_value,\n",
        "    shap_values_rf[0],\n",
        "    X_test_df.iloc[0]\n",
        ")\n",
        "\n",
        "# 4. Decision Plot (first 10 instances)\n",
        "shap.decision_plot(\n",
        "    explainer_rf.expected_value[1] if isinstance(explainer_rf.expected_value, list) else explainer_rf.expected_value,\n",
        "    shap_values_rf[:10],\n",
        "    X_test_df.iloc[:10]\n",
        ")\n",
        "\n",
        "# 5. Heatmap\n",
        "shap.plots.heatmap(shap_values_rf, X_test_df)\n"
      ],
      "metadata": {
        "id": "qFy2Z0JFj6Wg"
      },
      "execution_count": null,
      "outputs": []
    }
  ]
}